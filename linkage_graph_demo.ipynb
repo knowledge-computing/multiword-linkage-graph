{
 "cells": [
  {
   "cell_type": "markdown",
   "metadata": {},
   "source": [
    "# Install Python Dependencies\n",
    "Run the following code cell to install the required python packages.\n",
    "Note: your python environment should be python 3.8 or newer."
   ]
  },
  {
   "cell_type": "code",
   "execution_count": null,
   "metadata": {},
   "outputs": [],
   "source": [
    "%pip install -r requirements.txt"
   ]
  },
  {
   "cell_type": "markdown",
   "metadata": {},
   "source": [
    "# Next, download the annotated data from the ICDAR 2024 MapText competition."
   ]
  },
  {
   "cell_type": "code",
   "execution_count": null,
   "metadata": {},
   "outputs": [],
   "source": [
    "!wget https://zenodo.org/records/11516933/files/rumsey_train.json\n",
    "!wget https://zenodo.org/records/11516933/files/rumsey_val.json"
   ]
  },
  {
   "cell_type": "markdown",
   "metadata": {},
   "source": [
    "# Download the Map Images\n",
    "Optionally, you can download the source map images for these annotations. These images take up roughly 2 GB of disk storage, and you can download them by running the following cells:"
   ]
  },
  {
   "cell_type": "code",
   "execution_count": null,
   "metadata": {},
   "outputs": [],
   "source": [
    "!wget https://zenodo.org/records/11516933/files/train.zip\n",
    "!unzip train.zip\n",
    "!wget https://zenodo.org/records/11516933/files/val.zip\n",
    "!unzip val.zip"
   ]
  },
  {
   "cell_type": "code",
   "execution_count": null,
   "metadata": {},
   "outputs": [],
   "source": [
    "# run this cell to delete the .zip files for the previous download\n",
    "!rm -rf train.zip\n",
    "!rm -rf val.zip"
   ]
  },
  {
   "cell_type": "markdown",
   "metadata": {},
   "source": [
    "# Construct and Evaluate Linkage Graphs\n",
    "First, fill in the variables in the cell below to select which linkage graph method you want to use. Then, run the cell to construct linkage graphs using that method, and evaluate the results."
   ]
  },
  {
   "cell_type": "code",
   "execution_count": null,
   "metadata": {},
   "outputs": [],
   "source": [
    "import sys\n",
    "import os\n",
    "import json\n",
    "import random\n",
    "sys.path.append(os.getcwd() + \"/scripts\")\n",
    "from map_graph import FeatureNode, prims_mst, distance_threshold_graph, MahalanobisMetric\n",
    "from compare_linkages import map_list_compare_linkages, get_stats_from_results_file, LinkageMethod\n",
    "from cross_validation_mahalanobis import train_mahalanobis_metric_for_fold\n",
    "map_ids = []\n",
    "# change MAP_SAMPLE_SIZE to change the number of maps you randomly select.\n",
    "MAP_SAMPLE_SIZE = 700\n",
    "# to use the validation maps instead, change \"annotations_filepath\" from\n",
    "# \"rumsey_train.json\" to \"rumsey_val.json\"\n",
    "annotations_filepath = \"rumsey_train.json\"\n",
    "with open(annotations_filepath, \"r\") as f:\n",
    "    for map_annotation in json.load(f):\n",
    "        map_ids.append(map_annotation[\"image\"])\n",
    "    map_sample = random.sample(map_ids, MAP_SAMPLE_SIZE)\n",
    "    # you can change the linkage method here by changing the \"linkage_method\" variable\n",
    "    # use the following variable for the linkage method presented in our paper\n",
    "    linkage_method = LinkageMethod(prims_mst, FeatureNode.EdgeCostFunction([1, 1, 1]), cut_edges=True)\n",
    "    # Uncomment the following lines to create MSTs using the Mahalanobis distance\n",
    "    # note: training the Mahalanobis metric will take several minutes.\n",
    "    \"\"\" M = train_mahalanobis_metric_for_fold([map_id for map_id in map_ids if map_id not in map_sample], \"random_sample\", annotations_filepath)\n",
    "    linkage_method = LinkageMethod(prims_mst, MahalanobisMetric(M)) \"\"\"\n",
    "    # set the linkage_method as follows to create character distance threshold linkage graphs\n",
    "    #linkage_method = LinkageMethod(distance_threshold_graph, FeatureNode.distance, cut_edges=True)\n",
    "\n",
    "    # name the output file for your method by setting the \"name\" variable.\n",
    "    # this output file will be stored in a folder called \"results\"\n",
    "    name = \"test_edge_cost_heuristic_edge_cut\"\n",
    "    output_file_name = \"results/\" + name + \".json\"\n",
    "    # Create the \"results\" folder if it doesn't exist\n",
    "    os.makedirs(\"results\", exist_ok=True)\n",
    "    map_list_compare_linkages(map_sample, name, annotations_filepath, linkage_method, output_file_name)\n",
    "    get_stats_from_results_file(output_file_name, annotations_filepath)"
   ]
  },
  {
   "cell_type": "markdown",
   "metadata": {},
   "source": [
    "# Visualizing Linkage Graphs\n",
    "To visualize the linkage graphs drawn on various maps, you can run the following code cell.\n",
    "Note: you will need to have downloaded the map images in order to create these visualizations.\n",
    "__Once you run this cell, navigate to \"scripts/annotated_linkage_results/ to view the visualization images.__"
   ]
  },
  {
   "cell_type": "code",
   "execution_count": null,
   "metadata": {},
   "outputs": [],
   "source": [
    "import sys\n",
    "import os\n",
    "import json\n",
    "sys.path.append(os.getcwd() + \"/scripts\")\n",
    "import draw_features_and_linkages as dfl\n",
    "import map_graph\n",
    "import multiword_name_extraction\n",
    "\n",
    "# change this variable to choose which map file you want to visualize\n",
    "map_filename = \"rumsey/train/5797073_h2_w9.png\"\n",
    "mg = map_graph.MapGraph(map_filename)\n",
    "# change the linkage method here to visualize different methods\n",
    "map_graph.prims_mst(mg.nodes, map_graph.FeatureNode.EdgeCostFunction([1, 1, 1]))\n",
    "#uncomment the next line to do an edge cut on the linkage graph:\n",
    "map_graph.edge_cut(mg.nodes, map_graph.FeatureNode.EdgeCostFunction([1, 1, 1]))\n",
    "map_annotations = multiword_name_extraction.extract_map_data_from_all_annotations(map_filename)\n",
    "# equation_1.png is currently set to be a visualization of the MST method from our paper.\n",
    "dfl.draw_features_and_linkages(map_filename, mg, \"equation_1_edge_cut.png\", map_dir=os.getcwd(), show_image=False)\n",
    "mg = map_graph.MapGraph(map_filename)\n",
    "map_graph.distance_threshold_graph(mg.nodes)\n",
    "map_annotations = multiword_name_extraction.extract_map_data_from_all_annotations(map_filename)\n",
    "# character_distance_threshold.png will create a visualization of the character distance threshold linkage graph.\n",
    "dfl.draw_features_and_linkages(map_filename, mg, \"character_distance_threshold.png\",map_dir=os.getcwd(), show_image=False)"
   ]
  },
  {
   "cell_type": "markdown",
   "metadata": {},
   "source": [
    "Text labels from correctly linked multiword phrases are highlighted in green.\n",
    "Text labels from incorrectly linked multiword phrases are highlighted in red.\n",
    "Text labels from single-word phrases are highlighted in blue."
   ]
  },
  {
   "cell_type": "code",
   "execution_count": null,
   "metadata": {},
   "outputs": [],
   "source": [
    "import sys\n",
    "import os\n",
    "import json\n",
    "sys.path.append(os.getcwd() + \"/scripts\")\n",
    "from map_graph import MapGraph, FeatureNode, prims_mst, edge_cut, EdgeCostFunction, distance_threshold_graph, cut_cycles\n",
    "annotations_path = \"\" # Enter the path of your input json annotation data here\n",
    "output_filepath = \"\" # Enter the path you want to name your output json file with here\n",
    "output_json = []\n",
    "with open(annotations_path, \"r\") as f:\n",
    "    for map_annotation in json.load(f):\n",
    "        mg = MapGraph(map_annotation[\"image\"], annotations_filepath=annotations_path)\n",
    "        # uncomment next line for a distance threshold graph, or the following line for an MST \n",
    "        distance_threshold_graph(mg.nodes)\n",
    "        # prims_mst(mg.nodes, EdgeCostFunction([1, 1, 1]))\n",
    "        edge_cut(mg.nodes, EdgeCostFunction([1, 1, 1]))\n",
    "        # the following line can be commented out if using MST, because trees already contain\n",
    "        # no cycles so there is no need to cut cycles.\n",
    "        cut_cycles(mg.nodes, EdgeCostFunction([1, 1, 1]))\n",
    "        output_json.append(mg.to_json())\n",
    "with open(output_filepath, \"w\") as fw:\n",
    "    json.dump(output_json, fw)\n",
    "        \n",
    "    \n"
   ]
  }
 ],
 "metadata": {
  "kernelspec": {
   "display_name": "phrase_linking",
   "language": "python",
   "name": "python3"
  },
  "language_info": {
   "codemirror_mode": {
    "name": "ipython",
    "version": 3
   },
   "file_extension": ".py",
   "mimetype": "text/x-python",
   "name": "python",
   "nbconvert_exporter": "python",
   "pygments_lexer": "ipython3",
   "version": "3.8.20"
  }
 },
 "nbformat": 4,
 "nbformat_minor": 2
}
